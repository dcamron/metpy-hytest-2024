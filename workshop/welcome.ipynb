{
 "cells": [
  {
   "cell_type": "markdown",
   "id": "4452360d-61b0-4562-bb9a-879985dcef71",
   "metadata": {},
   "source": [
    "# MetPy: Creating Meteorological Python Workflows from Scratch\n",
    "## AMS Annual Meeting 2024 Short Courses"
   ]
  },
  {
   "cell_type": "markdown",
   "id": "13c04d9a-97c9-48f0-9075-00c8cde31fe5",
   "metadata": {
    "editable": true,
    "slideshow": {
     "slide_type": ""
    },
    "tags": []
   },
   "source": [
    "**Drew Camron** - NSF Unidata  \n",
    "**Kevin Goebbert** - Valparaiso University  \n",
    "**JT Thielen** - Colorado State University  \n",
    "**Max Grover** - DOE ANL/ARM\n",
    "\n",
    "---"
   ]
  },
  {
   "cell_type": "markdown",
   "id": "e09ac51b-66a7-4742-b8c0-54a29291d28d",
   "metadata": {
    "editable": true,
    "slideshow": {
     "slide_type": ""
    },
    "tags": []
   },
   "source": [
    "<div class=\"admonition alert alert-info\">\n",
    "    <p class=\"admonition-title\" style=\"font-weight:bold\">Join Here</p>\n",
    "    <p style=\"font-size:300%\">pyaos-workshop.unidata.ucar.edu</p>\n",
    "    <b>Wi-Fi Information</b><br>\n",
    "    <b>SSID:</b> ams-am-2024<br>\n",
    "    <b>Password:</b> ams-2024\n",
    "</div>"
   ]
  },
  {
   "cell_type": "markdown",
   "id": "8c3f46dc-a82f-4a5d-bd4f-679e78da7c7b",
   "metadata": {},
   "source": [
    "![](../logos/NSF-Unidata_lockup_horizontal_2023.png \"U.S. National Science Foundation and NSF Unidata Logos\")\n",
    "**Acknowledgments:** NSF Unidata and the Science Gateway are funded by the U.S. National Science Foundation."
   ]
  }
 ],
 "metadata": {
  "kernelspec": {
   "display_name": "Python 3 (ipykernel)",
   "language": "python",
   "name": "python3"
  },
  "language_info": {
   "codemirror_mode": {
    "name": "ipython",
    "version": 3
   },
   "file_extension": ".py",
   "mimetype": "text/x-python",
   "name": "python",
   "nbconvert_exporter": "python",
   "pygments_lexer": "ipython3",
   "version": "3.11.7"
  }
 },
 "nbformat": 4,
 "nbformat_minor": 5
}
